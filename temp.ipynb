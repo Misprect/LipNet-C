{
 "cells": [
  {
   "cell_type": "code",
   "execution_count": 6,
   "metadata": {},
   "outputs": [
    {
     "name": "stdout",
     "output_type": "stream",
     "text": [
      "LipNet Preprocessing ['.vs', 'LipNet Preprocessing', 'out'] ['CMakeLists.txt']\n",
      "LipNet Preprocessing\\.vs ['LipNet Preprocessing'] ['CMake Overview', 'cmake.db', 'ProjectSettings.json', 'slnx.sqlite', 'VSWorkspaceState.json']\n",
      "LipNet Preprocessing\\.vs\\LipNet Preprocessing ['v16'] []\n",
      "LipNet Preprocessing\\.vs\\LipNet Preprocessing\\v16 ['ipch'] ['.suo', 'Browse.VC.db', 'Browse.VC.db-shm', 'Browse.VC.db-wal', 'Browse.VC.opendb']\n",
      "LipNet Preprocessing\\.vs\\LipNet Preprocessing\\v16\\ipch ['AutoPCH'] []\n",
      "LipNet Preprocessing\\.vs\\LipNet Preprocessing\\v16\\ipch\\AutoPCH ['55ebab077bdc6a76', 'e2e91c71d7a0fe6'] []\n",
      "LipNet Preprocessing\\.vs\\LipNet Preprocessing\\v16\\ipch\\AutoPCH\\55ebab077bdc6a76 [] ['LIPNET PREPROCESSING.ipch']\n",
      "LipNet Preprocessing\\.vs\\LipNet Preprocessing\\v16\\ipch\\AutoPCH\\e2e91c71d7a0fe6 [] []\n",
      "LipNet Preprocessing\\LipNet Preprocessing ['output'] ['CMakeLists.txt', 'dataset.txt', 'LipNet Preprocessing.cpp', 'LipNet Preprocessing.h']\n",
      "LipNet Preprocessing\\LipNet Preprocessing\\output [] ['LipNet Preprocessing.exe']\n",
      "LipNet Preprocessing\\out ['build'] []\n",
      "LipNet Preprocessing\\out\\build ['x64-Debug'] []\n",
      "LipNet Preprocessing\\out\\build\\x64-Debug ['.cmake', 'CMakeFiles', 'LipNet Preprocessing', 'Testing'] ['.ninja_deps', '.ninja_log', 'build.ninja', 'CMakeCache.txt', 'cmake_install.cmake', 'VSInheritEnvironments.txt']\n",
      "LipNet Preprocessing\\out\\build\\x64-Debug\\.cmake ['api'] []\n",
      "LipNet Preprocessing\\out\\build\\x64-Debug\\.cmake\\api ['v1'] []\n",
      "LipNet Preprocessing\\out\\build\\x64-Debug\\.cmake\\api\\v1 ['query', 'reply'] []\n",
      "LipNet Preprocessing\\out\\build\\x64-Debug\\.cmake\\api\\v1\\query ['client-MicrosoftVS'] []\n",
      "LipNet Preprocessing\\out\\build\\x64-Debug\\.cmake\\api\\v1\\query\\client-MicrosoftVS [] ['query.json']\n",
      "LipNet Preprocessing\\out\\build\\x64-Debug\\.cmake\\api\\v1\\reply [] ['cache-v2-95a86904eeab2b63ec70.json', 'cmakeFiles-v1-a5f378b3370c74bb55c3.json', 'codemodel-v2-a8df9a93f2810dbda4c9.json', 'index-2023-11-21T19-07-04-0458.json', 'target-CMakeTarget-Debug-b8ceeb98dee661f4fd0c.json', 'toolchains-v1-83ea470bde4f5d82fb33.json']\n",
      "LipNet Preprocessing\\out\\build\\x64-Debug\\CMakeFiles ['3.20.21032501-MSVC_2', 'CMakeTmp', 'ShowIncludes'] ['cmake.check_cache', 'CMakeOutput.log', 'rules.ninja', 'TargetDirectories.txt']\n",
      "LipNet Preprocessing\\out\\build\\x64-Debug\\CMakeFiles\\3.20.21032501-MSVC_2 ['CompilerIdC', 'CompilerIdCXX'] ['CMakeCCompiler.cmake', 'CMakeCXXCompiler.cmake', 'CMakeDetermineCompilerABI_C.bin', 'CMakeDetermineCompilerABI_CXX.bin', 'CMakeRCCompiler.cmake', 'CMakeSystem.cmake']\n",
      "LipNet Preprocessing\\out\\build\\x64-Debug\\CMakeFiles\\3.20.21032501-MSVC_2\\CompilerIdC ['tmp'] ['CMakeCCompilerId.c', 'CMakeCCompilerId.exe', 'CMakeCCompilerId.obj']\n",
      "LipNet Preprocessing\\out\\build\\x64-Debug\\CMakeFiles\\3.20.21032501-MSVC_2\\CompilerIdC\\tmp [] []\n",
      "LipNet Preprocessing\\out\\build\\x64-Debug\\CMakeFiles\\3.20.21032501-MSVC_2\\CompilerIdCXX ['tmp'] ['CMakeCXXCompilerId.cpp', 'CMakeCXXCompilerId.exe', 'CMakeCXXCompilerId.obj']\n",
      "LipNet Preprocessing\\out\\build\\x64-Debug\\CMakeFiles\\3.20.21032501-MSVC_2\\CompilerIdCXX\\tmp [] []\n",
      "LipNet Preprocessing\\out\\build\\x64-Debug\\CMakeFiles\\CMakeTmp [] []\n",
      "LipNet Preprocessing\\out\\build\\x64-Debug\\CMakeFiles\\ShowIncludes [] ['foo.h', 'main.c', 'main.obj']\n",
      "LipNet Preprocessing\\out\\build\\x64-Debug\\LipNet Preprocessing ['CMakeFiles'] ['CMakeTarget.exe', 'CMakeTarget.ilk', 'CMakeTarget.pdb', 'cmake_install.cmake']\n",
      "LipNet Preprocessing\\out\\build\\x64-Debug\\LipNet Preprocessing\\CMakeFiles ['CMakeTarget.dir'] []\n",
      "LipNet Preprocessing\\out\\build\\x64-Debug\\LipNet Preprocessing\\CMakeFiles\\CMakeTarget.dir [] ['embed.manifest', 'intermediate.manifest', 'LipNet_Preprocessing.cpp.obj', 'manifest.rc', 'manifest.res', 'vc140.pdb']\n",
      "LipNet Preprocessing\\out\\build\\x64-Debug\\Testing ['Temporary'] []\n",
      "LipNet Preprocessing\\out\\build\\x64-Debug\\Testing\\Temporary [] ['LastTest.log']\n"
     ]
    }
   ],
   "source": [
    "import os\n",
    "for i, j, k in os.walk(\"LipNet Preprocessing\"):\n",
    "    print(i, j, k)"
   ]
  },
  {
   "cell_type": "code",
   "execution_count": null,
   "metadata": {},
   "outputs": [],
   "source": []
  }
 ],
 "metadata": {
  "kernelspec": {
   "display_name": "Python 3",
   "language": "python",
   "name": "python3"
  },
  "language_info": {
   "codemirror_mode": {
    "name": "ipython",
    "version": 3
   },
   "file_extension": ".py",
   "mimetype": "text/x-python",
   "name": "python",
   "nbconvert_exporter": "python",
   "pygments_lexer": "ipython3",
   "version": "3.11.4"
  }
 },
 "nbformat": 4,
 "nbformat_minor": 2
}
